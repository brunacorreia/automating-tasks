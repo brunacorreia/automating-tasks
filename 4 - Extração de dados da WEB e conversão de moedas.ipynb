{
 "cells": [
  {
   "cell_type": "markdown",
   "metadata": {},
   "source": [
    "# Automação Web e Busca de Informações com Python\n",
    "\n",
    "#### Desafio: \n",
    "\n",
    "Trabalhamos em uma importadora e o preço dos nossos produtos é vinculado a cotação de:\n",
    "- Dólar\n",
    "- Euro\n",
    "- Ouro\n",
    "\n",
    "Precisamos pegar na internet, de forma automática, a cotação desses 3 itens e saber quanto devemos cobrar pelos nossos produtos, considerando uma margem de contribuição que temos na nossa base de dados.\n",
    "\n",
    "Base de Dados: https://drive.google.com/drive/folders/1QHOQt1J7d5Z4sBFKL9GN699OcPh2aVaP?usp=sharing\n",
    "\n",
    "Para isso, vamos criar uma automação web:\n",
    "\n",
    "- Usaremos o selenium\n",
    "- Importante: baixar o webdriver\n",
    "    - Chrome: chromedriver download\n",
    "    - Firefox: geckodriver"
   ]
  },
  {
   "cell_type": "code",
   "execution_count": 28,
   "metadata": {},
   "outputs": [],
   "source": [
    "# SELENIUM -> SEMPRE UTILIZAR ASPAS SIMPLES COM O XPATH\n",
    "\n",
    "from selenium import webdriver\n",
    "from selenium.webdriver.common.keys import Keys\n",
    "\n",
    "# para rodar o chrome em 2º plano:\n",
    "# from selenium.webdriver.chrome.options import Options\n",
    "# chrome_options = Options()\n",
    "# chrome_options.headless = True # also works\n",
    "# nav = webdriver.Chrome(options=chrome_options)\n",
    "\n",
    "navegador = webdriver.Chrome()\n",
    "\n",
    "#obs: métodos possiveis: \n",
    "# .click()\n",
    "# .send_keys()"
   ]
  },
  {
   "cell_type": "code",
   "execution_count": 29,
   "metadata": {},
   "outputs": [
    {
     "data": {
      "text/plain": [
       "'5.4345'"
      ]
     },
     "metadata": {},
     "output_type": "display_data"
    }
   ],
   "source": [
    "# pesquisar no google cotacao dolar\n",
    "navegador.get(\"https://www.google.com.br/\")\n",
    "#copy full xpath\n",
    "navegador.find_element_by_xpath('/html/body/div[1]/div[3]/form/div[1]/div[1]/div[1]/div/div[2]/input').send_keys(\"cotacao dolar\")\n",
    "navegador.find_element_by_xpath('/html/body/div[1]/div[3]/form/div[1]/div[1]/div[1]/div/div[2]/input').send_keys(Keys.ENTER)\n",
    "\n",
    "# pegar cotacao dolar\n",
    "cotacaoDolar = navegador.find_element_by_xpath('//*[@id=\"knowledge-currency__updatable-data-column\"]/div[1]/div[2]/span[1]').get_attribute('data-value')\n",
    "display(cotacaoDolar)"
   ]
  },
  {
   "cell_type": "code",
   "execution_count": 30,
   "metadata": {},
   "outputs": [
    {
     "data": {
      "text/plain": [
       "'6.533165692000001'"
      ]
     },
     "metadata": {},
     "output_type": "display_data"
    }
   ],
   "source": [
    "# pesquisar no google cotacao euro\n",
    "navegador.find_element_by_xpath('//*[@id=\"tsf\"]/div[1]/div[1]/div[2]/div/div[2]/input').send_keys(Keys.CONTROL + 'a', Keys.BACKSPACE)\n",
    "navegador.find_element_by_xpath('//*[@id=\"tsf\"]/div[1]/div[1]/div[2]/div/div[2]/input').send_keys(\"cotacao euro\")\n",
    "navegador.find_element_by_xpath('//*[@id=\"tsf\"]/div[1]/div[1]/div[2]/div/div[2]/input').send_keys(Keys.ENTER)\n",
    "\n",
    "# pegar cotacao euro\n",
    "cotacaoEuro = navegador.find_element_by_xpath('//*[@id=\"knowledge-currency__updatable-data-column\"]/div[1]/div[2]/span[1]').get_attribute('data-value')\n",
    "display(cotacaoEuro)"
   ]
  },
  {
   "cell_type": "code",
   "execution_count": 31,
   "metadata": {},
   "outputs": [
    {
     "data": {
      "text/plain": [
       "'308.62'"
      ]
     },
     "metadata": {},
     "output_type": "display_data"
    }
   ],
   "source": [
    "# pesquisar no google cotacao ouro\n",
    "site = \"https://www.melhorcambio.com/ouro-hoje\"\n",
    "navegador.get(site)\n",
    "\n",
    "# pegar cotacao ouro\n",
    "#cotacaoOuro = navegador.find_element_by_xpath('//*[@id=\"comercial\"]').get_attribute(\"value\")\n",
    "# obs: o comando acima estava dando muito erro devido as aspas do cod, entao substitui-se por:\n",
    "cotacaoOuro = navegador.find_element_by_id('comercial').get_attribute('value')\n",
    "#trocar virgula por ponto para padronizar\n",
    "\n",
    "cotacaoOuro = cotacaoOuro.replace(\",\",\".\")\n",
    "display(cotacaoOuro)\n",
    "navegador.quit()"
   ]
  },
  {
   "cell_type": "markdown",
   "metadata": {},
   "source": [
    "### Agora vamos atualizar a nossa base de preços com as novas cotações"
   ]
  },
  {
   "cell_type": "markdown",
   "metadata": {},
   "source": [
    "- Importando a base de dados"
   ]
  },
  {
   "cell_type": "code",
   "execution_count": 32,
   "metadata": {
    "scrolled": true
   },
   "outputs": [
    {
     "data": {
      "text/html": [
       "<div>\n",
       "<style scoped>\n",
       "    .dataframe tbody tr th:only-of-type {\n",
       "        vertical-align: middle;\n",
       "    }\n",
       "\n",
       "    .dataframe tbody tr th {\n",
       "        vertical-align: top;\n",
       "    }\n",
       "\n",
       "    .dataframe thead th {\n",
       "        text-align: right;\n",
       "    }\n",
       "</style>\n",
       "<table border=\"1\" class=\"dataframe\">\n",
       "  <thead>\n",
       "    <tr style=\"text-align: right;\">\n",
       "      <th></th>\n",
       "      <th>Produtos</th>\n",
       "      <th>Preço Base Original</th>\n",
       "      <th>Moeda</th>\n",
       "      <th>Cotação</th>\n",
       "      <th>Preço Base Reais</th>\n",
       "      <th>Ajuste</th>\n",
       "      <th>Preço Final</th>\n",
       "    </tr>\n",
       "  </thead>\n",
       "  <tbody>\n",
       "    <tr>\n",
       "      <th>0</th>\n",
       "      <td>Câmera Canon</td>\n",
       "      <td>999.99</td>\n",
       "      <td>Dólar</td>\n",
       "      <td>5</td>\n",
       "      <td>4999.95</td>\n",
       "      <td>1.40</td>\n",
       "      <td>6999.930</td>\n",
       "    </tr>\n",
       "    <tr>\n",
       "      <th>1</th>\n",
       "      <td>Carro Renault</td>\n",
       "      <td>4500.00</td>\n",
       "      <td>Euro</td>\n",
       "      <td>6</td>\n",
       "      <td>27000.00</td>\n",
       "      <td>2.00</td>\n",
       "      <td>54000.000</td>\n",
       "    </tr>\n",
       "    <tr>\n",
       "      <th>2</th>\n",
       "      <td>Notebook Dell</td>\n",
       "      <td>899.99</td>\n",
       "      <td>Dólar</td>\n",
       "      <td>5</td>\n",
       "      <td>4499.95</td>\n",
       "      <td>1.70</td>\n",
       "      <td>7649.915</td>\n",
       "    </tr>\n",
       "    <tr>\n",
       "      <th>3</th>\n",
       "      <td>IPhone</td>\n",
       "      <td>799.00</td>\n",
       "      <td>Dólar</td>\n",
       "      <td>5</td>\n",
       "      <td>3995.00</td>\n",
       "      <td>1.70</td>\n",
       "      <td>6791.500</td>\n",
       "    </tr>\n",
       "    <tr>\n",
       "      <th>4</th>\n",
       "      <td>Carro Fiat</td>\n",
       "      <td>3000.00</td>\n",
       "      <td>Euro</td>\n",
       "      <td>6</td>\n",
       "      <td>18000.00</td>\n",
       "      <td>1.90</td>\n",
       "      <td>34200.000</td>\n",
       "    </tr>\n",
       "    <tr>\n",
       "      <th>5</th>\n",
       "      <td>Celular Xiaomi</td>\n",
       "      <td>480.48</td>\n",
       "      <td>Dólar</td>\n",
       "      <td>5</td>\n",
       "      <td>2402.40</td>\n",
       "      <td>2.00</td>\n",
       "      <td>4804.800</td>\n",
       "    </tr>\n",
       "    <tr>\n",
       "      <th>6</th>\n",
       "      <td>Joia 20g</td>\n",
       "      <td>20.00</td>\n",
       "      <td>Ouro</td>\n",
       "      <td>350</td>\n",
       "      <td>7000.00</td>\n",
       "      <td>1.15</td>\n",
       "      <td>8050.000</td>\n",
       "    </tr>\n",
       "  </tbody>\n",
       "</table>\n",
       "</div>"
      ],
      "text/plain": [
       "         Produtos  Preço Base Original  Moeda  Cotação  Preço Base Reais  \\\n",
       "0    Câmera Canon               999.99  Dólar        5           4999.95   \n",
       "1   Carro Renault              4500.00   Euro        6          27000.00   \n",
       "2   Notebook Dell               899.99  Dólar        5           4499.95   \n",
       "3          IPhone               799.00  Dólar        5           3995.00   \n",
       "4      Carro Fiat              3000.00   Euro        6          18000.00   \n",
       "5  Celular Xiaomi               480.48  Dólar        5           2402.40   \n",
       "6        Joia 20g                20.00   Ouro      350           7000.00   \n",
       "\n",
       "   Ajuste  Preço Final  \n",
       "0    1.40     6999.930  \n",
       "1    2.00    54000.000  \n",
       "2    1.70     7649.915  \n",
       "3    1.70     6791.500  \n",
       "4    1.90    34200.000  \n",
       "5    2.00     4804.800  \n",
       "6    1.15     8050.000  "
      ]
     },
     "metadata": {},
     "output_type": "display_data"
    }
   ],
   "source": [
    "import pandas as pd\n",
    "\n",
    "tabela_produtos = pd.read_excel(\"Aula 4 - Produtos.xlsx\")\n",
    "display(tabela_produtos)\n"
   ]
  },
  {
   "cell_type": "markdown",
   "metadata": {},
   "source": [
    "- Atualizando os preços e o cálculo do Preço Final"
   ]
  },
  {
   "cell_type": "code",
   "execution_count": 33,
   "metadata": {},
   "outputs": [
    {
     "data": {
      "text/html": [
       "<div>\n",
       "<style scoped>\n",
       "    .dataframe tbody tr th:only-of-type {\n",
       "        vertical-align: middle;\n",
       "    }\n",
       "\n",
       "    .dataframe tbody tr th {\n",
       "        vertical-align: top;\n",
       "    }\n",
       "\n",
       "    .dataframe thead th {\n",
       "        text-align: right;\n",
       "    }\n",
       "</style>\n",
       "<table border=\"1\" class=\"dataframe\">\n",
       "  <thead>\n",
       "    <tr style=\"text-align: right;\">\n",
       "      <th></th>\n",
       "      <th>Produtos</th>\n",
       "      <th>Preço Base Original</th>\n",
       "      <th>Moeda</th>\n",
       "      <th>Cotação</th>\n",
       "      <th>Preço Base Reais</th>\n",
       "      <th>Ajuste</th>\n",
       "      <th>Preço Final</th>\n",
       "    </tr>\n",
       "  </thead>\n",
       "  <tbody>\n",
       "    <tr>\n",
       "      <th>0</th>\n",
       "      <td>Câmera Canon</td>\n",
       "      <td>999.99</td>\n",
       "      <td>Dólar</td>\n",
       "      <td>5.434500</td>\n",
       "      <td>5434.445655</td>\n",
       "      <td>1.40</td>\n",
       "      <td>7608.22</td>\n",
       "    </tr>\n",
       "    <tr>\n",
       "      <th>1</th>\n",
       "      <td>Carro Renault</td>\n",
       "      <td>4500.00</td>\n",
       "      <td>Euro</td>\n",
       "      <td>6.533166</td>\n",
       "      <td>29399.245614</td>\n",
       "      <td>2.00</td>\n",
       "      <td>58798.49</td>\n",
       "    </tr>\n",
       "    <tr>\n",
       "      <th>2</th>\n",
       "      <td>Notebook Dell</td>\n",
       "      <td>899.99</td>\n",
       "      <td>Dólar</td>\n",
       "      <td>5.434500</td>\n",
       "      <td>4890.995655</td>\n",
       "      <td>1.70</td>\n",
       "      <td>8314.69</td>\n",
       "    </tr>\n",
       "    <tr>\n",
       "      <th>3</th>\n",
       "      <td>IPhone</td>\n",
       "      <td>799.00</td>\n",
       "      <td>Dólar</td>\n",
       "      <td>5.434500</td>\n",
       "      <td>4342.165500</td>\n",
       "      <td>1.70</td>\n",
       "      <td>7381.68</td>\n",
       "    </tr>\n",
       "    <tr>\n",
       "      <th>4</th>\n",
       "      <td>Carro Fiat</td>\n",
       "      <td>3000.00</td>\n",
       "      <td>Euro</td>\n",
       "      <td>6.533166</td>\n",
       "      <td>19599.497076</td>\n",
       "      <td>1.90</td>\n",
       "      <td>37239.04</td>\n",
       "    </tr>\n",
       "    <tr>\n",
       "      <th>5</th>\n",
       "      <td>Celular Xiaomi</td>\n",
       "      <td>480.48</td>\n",
       "      <td>Dólar</td>\n",
       "      <td>5.434500</td>\n",
       "      <td>2611.168560</td>\n",
       "      <td>2.00</td>\n",
       "      <td>5222.34</td>\n",
       "    </tr>\n",
       "    <tr>\n",
       "      <th>6</th>\n",
       "      <td>Joia 20g</td>\n",
       "      <td>20.00</td>\n",
       "      <td>Ouro</td>\n",
       "      <td>308.620000</td>\n",
       "      <td>6172.400000</td>\n",
       "      <td>1.15</td>\n",
       "      <td>7098.26</td>\n",
       "    </tr>\n",
       "  </tbody>\n",
       "</table>\n",
       "</div>"
      ],
      "text/plain": [
       "         Produtos  Preço Base Original  Moeda     Cotação  Preço Base Reais  \\\n",
       "0    Câmera Canon               999.99  Dólar    5.434500       5434.445655   \n",
       "1   Carro Renault              4500.00   Euro    6.533166      29399.245614   \n",
       "2   Notebook Dell               899.99  Dólar    5.434500       4890.995655   \n",
       "3          IPhone               799.00  Dólar    5.434500       4342.165500   \n",
       "4      Carro Fiat              3000.00   Euro    6.533166      19599.497076   \n",
       "5  Celular Xiaomi               480.48  Dólar    5.434500       2611.168560   \n",
       "6        Joia 20g                20.00   Ouro  308.620000       6172.400000   \n",
       "\n",
       "   Ajuste Preço Final  \n",
       "0    1.40     7608.22  \n",
       "1    2.00    58798.49  \n",
       "2    1.70     8314.69  \n",
       "3    1.70     7381.68  \n",
       "4    1.90    37239.04  \n",
       "5    2.00     5222.34  \n",
       "6    1.15     7098.26  "
      ]
     },
     "metadata": {},
     "output_type": "display_data"
    }
   ],
   "source": [
    "# Passo 1: atualizar as cotacoes\n",
    "tabela_produtos.loc[tabela_produtos[\"Moeda\"] == \"Dólar\", \"Cotação\"] = float(cotacaoDolar)\n",
    "tabela_produtos.loc[tabela_produtos[\"Moeda\"] == \"Euro\", \"Cotação\"] = float(cotacaoEuro)\n",
    "tabela_produtos.loc[tabela_produtos[\"Moeda\"] == \"Ouro\", \"Cotação\"] = float(cotacaoOuro)\n",
    "\n",
    "# Passo 2: atualizar o preco base em real > cotacao * preco base original\n",
    "tabela_produtos[\"Preço Base Reais\"] = tabela_produtos[\"Cotação\"] * tabela_produtos[\"Preço Base Original\"]\n",
    "\n",
    "# Passo 3: atualizar o preco final > preco base em real * ajuste\n",
    "tabela_produtos[\"Preço Final\"] = tabela_produtos[\"Preço Base Reais\"] * tabela_produtos[\"Ajuste\"]\n",
    "tabela_produtos[\"Preço Final\"] = tabela_produtos[\"Preço Final\"].map(\"{:.2f}\".format)\n",
    "\n",
    "display(tabela_produtos)"
   ]
  },
  {
   "cell_type": "markdown",
   "metadata": {},
   "source": [
    "### Agora vamos exportar a nova base de preços atualizada"
   ]
  },
  {
   "cell_type": "code",
   "execution_count": 34,
   "metadata": {},
   "outputs": [],
   "source": [
    "tabela_produtos.to_excel(\"Produtos Tabela Atualizada.xlsx\", index=False)\n",
    "#index false para remover coluna indice"
   ]
  }
 ],
 "metadata": {
  "kernelspec": {
   "display_name": "Python 3",
   "language": "python",
   "name": "python3"
  },
  "language_info": {
   "codemirror_mode": {
    "name": "ipython",
    "version": 3
   },
   "file_extension": ".py",
   "mimetype": "text/x-python",
   "name": "python",
   "nbconvert_exporter": "python",
   "pygments_lexer": "ipython3",
   "version": "3.8.5"
  }
 },
 "nbformat": 4,
 "nbformat_minor": 4
}
